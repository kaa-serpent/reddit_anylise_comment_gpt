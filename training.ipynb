{
 "cells": [
  {
   "cell_type": "code",
   "execution_count": 4,
   "id": "d2fc03ef-a669-48b0-ba06-d095cb29c49e",
   "metadata": {
    "tags": []
   },
   "outputs": [],
   "source": [
    "import numpy as np # linear algebra\n",
    "import pandas as pd # data processing, CSV file I/O (e.g. pd.read_csv)\n",
    "import os\n",
    "\n",
    "# sklearn & spaCy\n",
    "from sklearn.feature_extraction.text import TfidfVectorizer\n",
    "from sklearn.cluster import MiniBatchKMeans\n",
    "from sklearn.decomposition import PCA\n",
    "import spacy\n",
    "\n",
    "# visualization\n",
    "import matplotlib.pyplot as plt\n",
    "%matplotlib inline\n",
    "\n",
    "# dataprep\n",
    "from dataprep import clean"
   ]
  },
  {
   "cell_type": "code",
   "execution_count": 7,
   "id": "bad38952-0fc6-4464-8ed0-7c7d67cf3af6",
   "metadata": {
    "tags": []
   },
   "outputs": [
    {
     "name": "stderr",
     "output_type": "stream",
     "text": [
      "C:\\Users\\Sico\\AppData\\Local\\Programs\\Python\\Python310\\lib\\site-packages\\dask\\dataframe\\core.py:6890: FutureWarning: Meta is not valid, `map_partitions` and `map_overlap` expects output to be a pandas object. Try passing a pandas object as meta or a dict or tuple representing the (name, dtype) of the columns. In the future the meta you passed will not work.\n",
      "  warnings.warn(\n",
      "C:\\Users\\Sico\\AppData\\Local\\Programs\\Python\\Python310\\lib\\site-packages\\dask\\dataframe\\core.py:6890: FutureWarning: Meta is not valid, `map_partitions` and `map_overlap` expects output to be a pandas object. Try passing a pandas object as meta or a dict or tuple representing the (name, dtype) of the columns. In the future the meta you passed will not work.\n",
      "  warnings.warn(\n",
      "C:\\Users\\Sico\\AppData\\Local\\Programs\\Python\\Python310\\lib\\site-packages\\dask\\dataframe\\core.py:6890: FutureWarning: Meta is not valid, `map_partitions` and `map_overlap` expects output to be a pandas object. Try passing a pandas object as meta or a dict or tuple representing the (name, dtype) of the columns. In the future the meta you passed will not work.\n",
      "  warnings.warn(\n",
      "C:\\Users\\Sico\\AppData\\Local\\Programs\\Python\\Python310\\lib\\site-packages\\dask\\dataframe\\core.py:6890: FutureWarning: Meta is not valid, `map_partitions` and `map_overlap` expects output to be a pandas object. Try passing a pandas object as meta or a dict or tuple representing the (name, dtype) of the columns. In the future the meta you passed will not work.\n",
      "  warnings.warn(\n",
      "C:\\Users\\Sico\\AppData\\Local\\Programs\\Python\\Python310\\lib\\site-packages\\dask\\dataframe\\core.py:6890: FutureWarning: Meta is not valid, `map_partitions` and `map_overlap` expects output to be a pandas object. Try passing a pandas object as meta or a dict or tuple representing the (name, dtype) of the columns. In the future the meta you passed will not work.\n",
      "  warnings.warn(\n",
      "C:\\Users\\Sico\\AppData\\Local\\Programs\\Python\\Python310\\lib\\site-packages\\dask\\dataframe\\core.py:6890: FutureWarning: Meta is not valid, `map_partitions` and `map_overlap` expects output to be a pandas object. Try passing a pandas object as meta or a dict or tuple representing the (name, dtype) of the columns. In the future the meta you passed will not work.\n",
      "  warnings.warn(\n",
      "C:\\Users\\Sico\\AppData\\Local\\Programs\\Python\\Python310\\lib\\site-packages\\dask\\dataframe\\core.py:6890: FutureWarning: Meta is not valid, `map_partitions` and `map_overlap` expects output to be a pandas object. Try passing a pandas object as meta or a dict or tuple representing the (name, dtype) of the columns. In the future the meta you passed will not work.\n",
      "  warnings.warn(\n",
      "C:\\Users\\Sico\\AppData\\Local\\Programs\\Python\\Python310\\lib\\site-packages\\dask\\dataframe\\core.py:6890: FutureWarning: Meta is not valid, `map_partitions` and `map_overlap` expects output to be a pandas object. Try passing a pandas object as meta or a dict or tuple representing the (name, dtype) of the columns. In the future the meta you passed will not work.\n",
      "  warnings.warn(\n",
      "C:\\Users\\Sico\\AppData\\Local\\Programs\\Python\\Python310\\lib\\site-packages\\dask\\dataframe\\core.py:6890: FutureWarning: Meta is not valid, `map_partitions` and `map_overlap` expects output to be a pandas object. Try passing a pandas object as meta or a dict or tuple representing the (name, dtype) of the columns. In the future the meta you passed will not work.\n",
      "  warnings.warn(\n"
     ]
    },
    {
     "data": {
      "text/html": [
       "<div>\n",
       "<style scoped>\n",
       "    .dataframe tbody tr th:only-of-type {\n",
       "        vertical-align: middle;\n",
       "    }\n",
       "\n",
       "    .dataframe tbody tr th {\n",
       "        vertical-align: top;\n",
       "    }\n",
       "\n",
       "    .dataframe thead th {\n",
       "        text-align: right;\n",
       "    }\n",
       "</style>\n",
       "<table border=\"1\" class=\"dataframe\">\n",
       "  <thead>\n",
       "    <tr style=\"text-align: right;\">\n",
       "      <th></th>\n",
       "      <th>comment_body</th>\n",
       "    </tr>\n",
       "  </thead>\n",
       "  <tbody>\n",
       "    <tr>\n",
       "      <th>0</th>\n",
       "      <td>shocked day need clickbait</td>\n",
       "    </tr>\n",
       "    <tr>\n",
       "      <th>1</th>\n",
       "      <td>angry right waste time read post sub clickbait...</td>\n",
       "    </tr>\n",
       "    <tr>\n",
       "      <th>2</th>\n",
       "      <td>chatgpt karma whore folk think stream think bu...</td>\n",
       "    </tr>\n",
       "    <tr>\n",
       "      <th>3</th>\n",
       "      <td>work ngl</td>\n",
       "    </tr>\n",
       "    <tr>\n",
       "      <th>4</th>\n",
       "      <td>certify must see moment really shock core</td>\n",
       "    </tr>\n",
       "  </tbody>\n",
       "</table>\n",
       "</div>"
      ],
      "text/plain": [
       "                                        comment_body\n",
       "0                         shocked day need clickbait\n",
       "1  angry right waste time read post sub clickbait...\n",
       "2  chatgpt karma whore folk think stream think bu...\n",
       "3                                           work ngl\n",
       "4          certify must see moment really shock core"
      ]
     },
     "execution_count": 7,
     "metadata": {},
     "output_type": "execute_result"
    }
   ],
   "source": [
    "# load file\n",
    "file = 'chatgpt-reddit-comments.csv'\n",
    "df = pd.read_csv(file, usecols = ['comment_body'])\n",
    "\n",
    "# drop NULLs & duplicates (if any)\n",
    "df.dropna(inplace=True)\n",
    "df.drop_duplicates(inplace=True)\n",
    "\n",
    "# reset index\n",
    "df.reset_index(drop=True,inplace=True)\n",
    "\n",
    "# clean data\n",
    "df = clean.clean_text(df, 'comment_body')\n",
    "\n",
    "# lemmetize\n",
    "lem = spacy.load('en_core_web_sm', disable = ['parser','ner'])\n",
    "\n",
    "def lemmetize(txt):\n",
    "    doc = lem(txt)\n",
    "    return (\" \".join([token.lemma_ for token in doc]))\n",
    "\n",
    "df['comment_body'] = df['comment_body'].apply(lambda x: lemmetize(x))\n",
    "\n",
    "# view\n",
    "df.head()"
   ]
  },
  {
   "cell_type": "code",
   "execution_count": 8,
   "id": "31e6d0e6-2d64-4e0a-92c6-b5c65ca77048",
   "metadata": {
    "tags": []
   },
   "outputs": [],
   "source": [
    "# feature extraction\n",
    "vec = TfidfVectorizer(stop_words='english')\n",
    "vec.fit(df.comment_body.values)\n",
    "features = vec.transform(df.comment_body.values)"
   ]
  },
  {
   "cell_type": "code",
   "execution_count": null,
   "id": "a7e52338-d2c2-4bdf-8562-3eb4831f58b7",
   "metadata": {
    "tags": []
   },
   "outputs": [
    {
     "name": "stderr",
     "output_type": "stream",
     "text": [
      "C:\\Users\\Sico\\AppData\\Local\\Programs\\Python\\Python310\\lib\\site-packages\\sklearn\\cluster\\_kmeans.py:870: FutureWarning: The default value of `n_init` will change from 3 to 'auto' in 1.4. Set the value of `n_init` explicitly to suppress the warning\n",
      "  warnings.warn(\n"
     ]
    }
   ],
   "source": [
    "# model training\n",
    "cls = MiniBatchKMeans(n_clusters=3, random_state=0)\n",
    "cls.fit(features)\n",
    "\n",
    "# prediction\n",
    "pred = cls.predict(features)\n",
    "\n",
    "# reduction of features to 2D\n",
    "pca = PCA(n_components=2, random_state=0)\n",
    "reduced_features = pca.fit_transform(features.toarray())\n",
    "\n",
    "# reduction of cluster-centers to 2D\n",
    "red_cluster_centers = pca.transform(cls.cluster_centers_)\n",
    "\n",
    "# plotting\n",
    "plt.figure(figsize=(15,10), dpi=80)\n",
    "plt.scatter(reduced_features[:,0], reduced_features[:,1], c=pred)\n",
    "plt.scatter(red_cluster_centers[:,0], red_cluster_centers[:,1], marker='X', s=150, c='b')\n",
    "plt.show()"
   ]
  },
  {
   "cell_type": "code",
   "execution_count": null,
   "id": "e64ceda3-e6fd-4836-a55b-de9fc63c6698",
   "metadata": {},
   "outputs": [],
   "source": []
  }
 ],
 "metadata": {
  "kernelspec": {
   "display_name": "Python 3 (ipykernel)",
   "language": "python",
   "name": "python3"
  },
  "language_info": {
   "codemirror_mode": {
    "name": "ipython",
    "version": 3
   },
   "file_extension": ".py",
   "mimetype": "text/x-python",
   "name": "python",
   "nbconvert_exporter": "python",
   "pygments_lexer": "ipython3",
   "version": "3.10.10"
  }
 },
 "nbformat": 4,
 "nbformat_minor": 5
}
